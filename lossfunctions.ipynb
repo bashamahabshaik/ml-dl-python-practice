{
  "nbformat": 4,
  "nbformat_minor": 0,
  "metadata": {
    "colab": {
      "provenance": [],
      "authorship_tag": "ABX9TyNSET3MqJEyT2uRGfZ7m6jC",
      "include_colab_link": true
    },
    "kernelspec": {
      "name": "python3",
      "display_name": "Python 3"
    },
    "language_info": {
      "name": "python"
    }
  },
  "cells": [
    {
      "cell_type": "markdown",
      "metadata": {
        "id": "view-in-github",
        "colab_type": "text"
      },
      "source": [
        "<a href=\"https://colab.research.google.com/github/bashamahabshaik/ml-dl-python-practice/blob/main/lossfunctions.ipynb\" target=\"_parent\"><img src=\"https://colab.research.google.com/assets/colab-badge.svg\" alt=\"Open In Colab\"/></a>"
      ]
    },
    {
      "cell_type": "code",
      "execution_count": 1,
      "metadata": {
        "id": "C9sqxqQpoIyO"
      },
      "outputs": [],
      "source": [
        "#MSE(MEAN SQUARE ERROR)"
      ]
    },
    {
      "cell_type": "code",
      "source": [
        "import numpy as np"
      ],
      "metadata": {
        "id": "ds33y8x-oND8"
      },
      "execution_count": 6,
      "outputs": []
    },
    {
      "cell_type": "code",
      "source": [
        "y_actual = np.array([3,-0.5,2,7])\n",
        "y_pred = np.array([2.5,0.0,2,8])\n",
        "mse = np.mean((y_actual-y_pred)**2)\n",
        "mse\n",
        "#OR\n",
        "from sklearn.metrics import mean_squared_error, mean_absolute_error\n",
        "mean_squared_error(y_actual,y_pred)"
      ],
      "metadata": {
        "colab": {
          "base_uri": "https://localhost:8080/"
        },
        "id": "3KykdfZNoQl3",
        "outputId": "c2bf98b4-bd2d-40dd-ef6c-10b3a5f6e2bd"
      },
      "execution_count": 12,
      "outputs": [
        {
          "output_type": "execute_result",
          "data": {
            "text/plain": [
              "0.375"
            ]
          },
          "metadata": {},
          "execution_count": 12
        }
      ]
    },
    {
      "cell_type": "code",
      "source": [
        "#MAE(MEAN ABSOLUTE ERROR)\n",
        "mae = np.mean(np.abs(y_actual-y_pred))\n",
        "mae\n",
        "#OR\n",
        "mean_absolute_error(y_actual,y_pred)"
      ],
      "metadata": {
        "colab": {
          "base_uri": "https://localhost:8080/"
        },
        "outputId": "f16f730d-76fb-4f76-e1d3-df9ae734b767",
        "id": "hjvNN1JIpvFM"
      },
      "execution_count": 13,
      "outputs": [
        {
          "output_type": "execute_result",
          "data": {
            "text/plain": [
              "0.5"
            ]
          },
          "metadata": {},
          "execution_count": 13
        }
      ]
    },
    {
      "cell_type": "code",
      "source": [
        "#CROSS ENTROPY LOSS FOR CLASSIFICATION PROBLEMS\n",
        "from sklearn.metrics import  log_loss\n",
        "y_actual = np.array([1,0,1,1])\n",
        "y_pred = np.array([0.9,0.2,0.8,0.6])\n",
        "cross_entropy = log_loss(y_actual,y_pred)\n",
        "cross_entropy"
      ],
      "metadata": {
        "colab": {
          "base_uri": "https://localhost:8080/"
        },
        "id": "Dd9FwNBrouyH",
        "outputId": "6b65e4ad-6c45-4411-d78e-287ce332298e"
      },
      "execution_count": 14,
      "outputs": [
        {
          "output_type": "execute_result",
          "data": {
            "text/plain": [
              "0.2656183105130591"
            ]
          },
          "metadata": {},
          "execution_count": 14
        }
      ]
    },
    {
      "cell_type": "code",
      "source": [
        "#HUBER LOSS FOR REGRESSION, ROBUST TO OUTLIERS\n",
        "def huber_loss(y_true,y_pred,delta=1.0):\n",
        "  err = y_true-y_pred\n",
        "  is_small_err = np.abs(err) <= delta\n",
        "  squared_loss = 0.5 * err**2\n",
        "  linear_loss = delta*(np.abs(err)-0.5*delta)\n",
        "  return np.mean(np.where(is_small_err,squared_loss,linear_loss))"
      ],
      "metadata": {
        "id": "wJ8F8SPhpNHj"
      },
      "execution_count": 19,
      "outputs": []
    },
    {
      "cell_type": "code",
      "source": [
        "huber_loss(y_actual,y_pred)"
      ],
      "metadata": {
        "colab": {
          "base_uri": "https://localhost:8080/"
        },
        "id": "aXsv6yO7qKRj",
        "outputId": "a1819ff7-66f8-4d5c-c4c2-816969fa9f57"
      },
      "execution_count": 20,
      "outputs": [
        {
          "output_type": "execute_result",
          "data": {
            "text/plain": [
              "0.03125"
            ]
          },
          "metadata": {},
          "execution_count": 20
        }
      ]
    },
    {
      "cell_type": "code",
      "source": [],
      "metadata": {
        "id": "FIx0GCq1qzkm"
      },
      "execution_count": null,
      "outputs": []
    }
  ]
}