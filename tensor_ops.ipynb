{
  "nbformat": 4,
  "nbformat_minor": 0,
  "metadata": {
    "colab": {
      "provenance": [],
      "authorship_tag": "ABX9TyNYsiXbPJgK3bBnWprtcvre",
      "include_colab_link": true
    },
    "kernelspec": {
      "name": "python3",
      "display_name": "Python 3"
    },
    "language_info": {
      "name": "python"
    }
  },
  "cells": [
    {
      "cell_type": "markdown",
      "metadata": {
        "id": "view-in-github",
        "colab_type": "text"
      },
      "source": [
        "<a href=\"https://colab.research.google.com/github/bashamahabshaik/ml-dl-python-practice/blob/main/tensor_ops.ipynb\" target=\"_parent\"><img src=\"https://colab.research.google.com/assets/colab-badge.svg\" alt=\"Open In Colab\"/></a>"
      ]
    },
    {
      "cell_type": "code",
      "execution_count": 1,
      "metadata": {
        "id": "87A8KxGT_phK"
      },
      "outputs": [],
      "source": [
        "import torch"
      ]
    },
    {
      "cell_type": "code",
      "source": [
        "my_torch = torch.arange(10)\n",
        "my_torch"
      ],
      "metadata": {
        "colab": {
          "base_uri": "https://localhost:8080/"
        },
        "id": "z9Vr5TKz_sGO",
        "outputId": "a7f887f7-9831-44e9-ef87-889704f11685"
      },
      "execution_count": 3,
      "outputs": [
        {
          "output_type": "execute_result",
          "data": {
            "text/plain": [
              "tensor([0, 1, 2, 3, 4, 5, 6, 7, 8, 9])"
            ]
          },
          "metadata": {},
          "execution_count": 3
        }
      ]
    },
    {
      "cell_type": "code",
      "source": [
        "#Reshape and view\n",
        "my_torch1 = my_torch.reshape(2,5)\n",
        "my_torch1"
      ],
      "metadata": {
        "colab": {
          "base_uri": "https://localhost:8080/"
        },
        "id": "k7rZ2Pnb_2Ku",
        "outputId": "73a3bd3e-8252-43b8-b91e-226aab7ace07"
      },
      "execution_count": 9,
      "outputs": [
        {
          "output_type": "execute_result",
          "data": {
            "text/plain": [
              "tensor([[0, 1, 2, 3, 4],\n",
              "        [5, 6, 7, 8, 9]])"
            ]
          },
          "metadata": {},
          "execution_count": 9
        }
      ]
    },
    {
      "cell_type": "code",
      "source": [
        "#Reshape if we dont know the no.of items using -1\n",
        "my_torch2 = torch.arange(15)\n",
        "my_torch2 = my_torch2.reshape(3,-1)\n",
        "my_torch2"
      ],
      "metadata": {
        "colab": {
          "base_uri": "https://localhost:8080/"
        },
        "id": "2MqkI8NnAjR9",
        "outputId": "11b24a1e-14dc-4ee7-97c1-1fdd3504e9b4"
      },
      "execution_count": 16,
      "outputs": [
        {
          "output_type": "execute_result",
          "data": {
            "text/plain": [
              "tensor([[ 0,  1,  2,  3,  4],\n",
              "        [ 5,  6,  7,  8,  9],\n",
              "        [10, 11, 12, 13, 14]])"
            ]
          },
          "metadata": {},
          "execution_count": 16
        }
      ]
    },
    {
      "cell_type": "code",
      "source": [
        "my_torch3 = torch.arange(10)\n",
        "my_torch3 = my_torch3.view(2,5)\n",
        "my_torch3"
      ],
      "metadata": {
        "colab": {
          "base_uri": "https://localhost:8080/"
        },
        "id": "2-6wxsNqA4Ew",
        "outputId": "c6700aca-3a68-48a4-b7a8-2833594ab9ec"
      },
      "execution_count": 18,
      "outputs": [
        {
          "output_type": "execute_result",
          "data": {
            "text/plain": [
              "tensor([[0, 1, 2, 3, 4],\n",
              "        [5, 6, 7, 8, 9]])"
            ]
          },
          "metadata": {},
          "execution_count": 18
        }
      ]
    },
    {
      "cell_type": "code",
      "source": [
        "#Difference b/w shape and view\n"
      ],
      "metadata": {
        "id": "8yyY8K6gBbgj"
      },
      "execution_count": null,
      "outputs": []
    },
    {
      "cell_type": "markdown",
      "source": [
        "Imagine you have a box of Lego blocks arranged in a 3x4 grid.\n",
        "\n",
        "reshape: You can rearrange the Lego blocks into a different shape, like a 2x6 grid or a 1x12 line. Reshape is like taking apart the Lego grid and building a new shape. It creates a new arrangement but doesn’t care how the blocks are originally stored inside. If needed, it can create a new set of blocks entirely (copy the data).\n",
        "\n",
        "view: View is like looking at the same Lego blocks from a different angle or dividing them into groups without actually moving them. The blocks are still in the same original order, but you’re just organizing them differently in your head. However, you can only \"view\" if the Lego blocks are already neatly stored (contiguous in memory).\n",
        "\n",
        "1. reshape:\n",
        "\n",
        "Purpose: Changes the shape of a tensor, but it can return a new tensor if the original data isn’t stored contiguously in memory.\n",
        "Behavior: It’s more flexible because it can internally copy the data if needed to create a tensor with the desired shape.\n",
        "Use Case: When you want to change the shape of a tensor without worrying about how the data is stored in memory.\n",
        "2. view:\n",
        "\n",
        "Purpose: Also changes the shape of a tensor, but it works only if the tensor is contiguous in memory (i.e., data is stored in a single, continuous block).\n",
        "Behavior: It doesn’t create a new tensor or copy the data. Instead, it provides a new view of the same underlying data with a different shape.\n",
        "Use Case: When you want a lightweight operation to change the shape without duplicating memory, and you know the tensor is contiguous."
      ],
      "metadata": {
        "id": "KKOV5aPXCC1-"
      }
    },
    {
      "cell_type": "code",
      "source": [
        "\n",
        "\n",
        "# Step 1: Create a simple tensor\n",
        "tensor = torch.tensor([[1, 2, 3], [4, 5, 6]])\n",
        "print(\"Original Tensor:\")\n",
        "print(tensor)\n",
        "\n",
        "# Check if the tensor is contiguous\n",
        "print(\"\\nIs the original tensor contiguous?\", tensor.is_contiguous())\n",
        "\n",
        "# Step 2: Use reshape\n",
        "reshaped = tensor.reshape(3, 2)\n",
        "print(\"\\nReshaped Tensor (3x2):\")\n",
        "print(reshaped)\n",
        "\n",
        "# Step 3: Use view (works because the tensor is contiguous)\n",
        "viewed = tensor.view(3, 2)\n",
        "print(\"\\nViewed Tensor (3x2):\")\n",
        "print(viewed)\n",
        "\n",
        "# Step 4: Make the tensor non-contiguous by transposing it\n",
        "non_contiguous = tensor.t()  # Transpose flips rows and columns\n",
        "print(\"\\nNon-Contiguous Tensor (Transpose):\")\n",
        "print(non_contiguous)\n",
        "\n",
        "# Check if the tensor is contiguous\n",
        "print(\"\\nIs the transposed tensor contiguous?\", non_contiguous.is_contiguous())\n",
        "\n",
        "# Step 5: Try to use view on the non-contiguous tensor\n",
        "try:\n",
        "    viewed_non_contiguous = non_contiguous.view(3, 2)\n",
        "    print(\"\\nViewed Non-Contiguous Tensor (result might be wrong!):\")\n",
        "    print(viewed_non_contiguous)\n",
        "except RuntimeError as e:\n",
        "    print(\"\\nError when using view on non-contiguous tensor:\", e)\n",
        "\n",
        "# Step 6: Use reshape on the non-contiguous tensor (this will work)\n",
        "reshaped_non_contiguous = non_contiguous.reshape(3, 2)\n",
        "print(\"\\nReshaped Non-Contiguous Tensor:\")\n",
        "print(reshaped_non_contiguous)\n"
      ],
      "metadata": {
        "colab": {
          "base_uri": "https://localhost:8080/"
        },
        "id": "odnGuBJqDd-Q",
        "outputId": "172a3cd8-be37-4a62-8c4b-e75a7c47b99d"
      },
      "execution_count": 29,
      "outputs": [
        {
          "output_type": "stream",
          "name": "stdout",
          "text": [
            "Original Tensor:\n",
            "tensor([[1, 2, 3],\n",
            "        [4, 5, 6]])\n",
            "\n",
            "Is the original tensor contiguous? True\n",
            "\n",
            "Reshaped Tensor (3x2):\n",
            "tensor([[1, 2],\n",
            "        [3, 4],\n",
            "        [5, 6]])\n",
            "\n",
            "Viewed Tensor (3x2):\n",
            "tensor([[1, 2],\n",
            "        [3, 4],\n",
            "        [5, 6]])\n",
            "\n",
            "Non-Contiguous Tensor (Transpose):\n",
            "tensor([[1, 4],\n",
            "        [2, 5],\n",
            "        [3, 6]])\n",
            "\n",
            "Is the transposed tensor contiguous? False\n",
            "\n",
            "Viewed Non-Contiguous Tensor (result might be wrong!):\n",
            "tensor([[1, 4],\n",
            "        [2, 5],\n",
            "        [3, 6]])\n",
            "\n",
            "Reshaped Non-Contiguous Tensor:\n",
            "tensor([[1, 4],\n",
            "        [2, 5],\n",
            "        [3, 6]])\n"
          ]
        }
      ]
    },
    {
      "cell_type": "code",
      "source": [
        "#Reshape and view will update\n",
        "my_torch5 = torch.arange(10)\n",
        "my_torch6 = my_torch5.reshape(2,5)\n",
        "my_torch6"
      ],
      "metadata": {
        "colab": {
          "base_uri": "https://localhost:8080/"
        },
        "id": "6xs2pqddDf2c",
        "outputId": "0e190f55-519e-4451-b0cf-c534cb1c551f"
      },
      "execution_count": 30,
      "outputs": [
        {
          "output_type": "execute_result",
          "data": {
            "text/plain": [
              "tensor([[0, 1, 2, 3, 4],\n",
              "        [5, 6, 7, 8, 9]])"
            ]
          },
          "metadata": {},
          "execution_count": 30
        }
      ]
    },
    {
      "cell_type": "code",
      "source": [
        "my_torch5[1]=4141\n",
        "my_torch5"
      ],
      "metadata": {
        "colab": {
          "base_uri": "https://localhost:8080/"
        },
        "id": "AIIeSeUgFO2S",
        "outputId": "0ed7cf8b-72a0-4977-d5ad-a2222580fd58"
      },
      "execution_count": 31,
      "outputs": [
        {
          "output_type": "execute_result",
          "data": {
            "text/plain": [
              "tensor([   0, 4141,    2,    3,    4,    5,    6,    7,    8,    9])"
            ]
          },
          "metadata": {},
          "execution_count": 31
        }
      ]
    },
    {
      "cell_type": "code",
      "source": [
        "my_torch6"
      ],
      "metadata": {
        "colab": {
          "base_uri": "https://localhost:8080/"
        },
        "id": "guFCjBOvFTSS",
        "outputId": "7e15aca7-c1ce-4dc2-f09b-55eaff1ee97a"
      },
      "execution_count": 32,
      "outputs": [
        {
          "output_type": "execute_result",
          "data": {
            "text/plain": [
              "tensor([[   0, 4141,    2,    3,    4],\n",
              "        [   5,    6,    7,    8,    9]])"
            ]
          },
          "metadata": {},
          "execution_count": 32
        }
      ]
    },
    {
      "cell_type": "code",
      "source": [
        "my_torch7 = torch.arange(10)\n",
        "my_torch8 = my_torch7.view(2,5)\n",
        "my_torch8"
      ],
      "metadata": {
        "colab": {
          "base_uri": "https://localhost:8080/"
        },
        "id": "4WWICwIpFVEu",
        "outputId": "4b5caea7-a074-4ebc-c16c-6512bfefe90f"
      },
      "execution_count": 34,
      "outputs": [
        {
          "output_type": "execute_result",
          "data": {
            "text/plain": [
              "tensor([[0, 1, 2, 3, 4],\n",
              "        [5, 6, 7, 8, 9]])"
            ]
          },
          "metadata": {},
          "execution_count": 34
        }
      ]
    },
    {
      "cell_type": "code",
      "source": [
        "my_torch7[1]=4242\n",
        "my_torch7"
      ],
      "metadata": {
        "colab": {
          "base_uri": "https://localhost:8080/"
        },
        "id": "3mJMxq8sFXrU",
        "outputId": "0e09932d-aec6-497b-f764-901ece361d84"
      },
      "execution_count": 37,
      "outputs": [
        {
          "output_type": "execute_result",
          "data": {
            "text/plain": [
              "tensor([   0, 4242,    2,    3,    4,    5,    6,    7,    8,    9])"
            ]
          },
          "metadata": {},
          "execution_count": 37
        }
      ]
    },
    {
      "cell_type": "code",
      "source": [
        "my_torch8"
      ],
      "metadata": {
        "colab": {
          "base_uri": "https://localhost:8080/"
        },
        "id": "sf3a5pKMFg0c",
        "outputId": "1cb57c36-2234-4b72-9e9c-a4ce023ae8fb"
      },
      "execution_count": 38,
      "outputs": [
        {
          "output_type": "execute_result",
          "data": {
            "text/plain": [
              "tensor([[   0, 4242,    2,    3,    4],\n",
              "        [   5,    6,    7,    8,    9]])"
            ]
          },
          "metadata": {},
          "execution_count": 38
        }
      ]
    },
    {
      "cell_type": "code",
      "source": [
        "#SLICING\n",
        "my_torch9 = torch.arange(10)\n",
        "my_torch9[7]"
      ],
      "metadata": {
        "colab": {
          "base_uri": "https://localhost:8080/"
        },
        "id": "YhlqWwRhFiX5",
        "outputId": "0fbe3f1c-438d-46c5-aa94-564071a38819"
      },
      "execution_count": 42,
      "outputs": [
        {
          "output_type": "execute_result",
          "data": {
            "text/plain": [
              "tensor(7)"
            ]
          },
          "metadata": {},
          "execution_count": 42
        }
      ]
    },
    {
      "cell_type": "code",
      "source": [
        "my_torch10 = my_torch9.reshape(5,2)\n",
        "my_torch10"
      ],
      "metadata": {
        "colab": {
          "base_uri": "https://localhost:8080/"
        },
        "id": "gDovZXLsGHRQ",
        "outputId": "566cba0b-a1d2-4974-a80f-3c00f9c7b0af"
      },
      "execution_count": 46,
      "outputs": [
        {
          "output_type": "execute_result",
          "data": {
            "text/plain": [
              "tensor([[0, 1],\n",
              "        [2, 3],\n",
              "        [4, 5],\n",
              "        [6, 7],\n",
              "        [8, 9]])"
            ]
          },
          "metadata": {},
          "execution_count": 46
        }
      ]
    },
    {
      "cell_type": "code",
      "source": [
        "my_torch10[:,1]"
      ],
      "metadata": {
        "colab": {
          "base_uri": "https://localhost:8080/"
        },
        "id": "E_I0Ku0eGVH1",
        "outputId": "97163fe1-d177-41d8-cfb3-a90068b27e24"
      },
      "execution_count": 47,
      "outputs": [
        {
          "output_type": "execute_result",
          "data": {
            "text/plain": [
              "tensor([1, 3, 5, 7, 9])"
            ]
          },
          "metadata": {},
          "execution_count": 47
        }
      ]
    },
    {
      "cell_type": "code",
      "source": [
        "my_torch10[:,1:]"
      ],
      "metadata": {
        "colab": {
          "base_uri": "https://localhost:8080/"
        },
        "id": "zQ7E-HIfGa7D",
        "outputId": "e0724c59-18eb-40b3-9d70-cf8b4c103fbf"
      },
      "execution_count": 48,
      "outputs": [
        {
          "output_type": "execute_result",
          "data": {
            "text/plain": [
              "tensor([[1],\n",
              "        [3],\n",
              "        [5],\n",
              "        [7],\n",
              "        [9]])"
            ]
          },
          "metadata": {},
          "execution_count": 48
        }
      ]
    },
    {
      "cell_type": "code",
      "source": [],
      "metadata": {
        "id": "rgDQYhDgGi3b"
      },
      "execution_count": null,
      "outputs": []
    }
  ]
}